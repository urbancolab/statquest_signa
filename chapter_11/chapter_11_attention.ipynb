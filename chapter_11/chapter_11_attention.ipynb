{
  "cells": [
    {
      "cell_type": "markdown",
      "id": "484f0f25-6c2b-4753-85c3-ec1c6c6b704a",
      "metadata": {
        "id": "484f0f25-6c2b-4753-85c3-ec1c6c6b704a"
      },
      "source": [
        "# The StatQuest Illustrated Guide to Neural Networks and AI\n",
        "## Chapter 11 - Attention\n",
        "\n",
        "Copyright 2024, Joshua Starmer"
      ]
    },
    {
      "cell_type": "markdown",
      "id": "f5f73041-bc4a-48f9-9d14-e516a4d21397",
      "metadata": {
        "id": "f5f73041-bc4a-48f9-9d14-e516a4d21397"
      },
      "source": [
        "-----\n",
        "\n",
        "This tutorial is from the book, **[The StatQuest Illustrated Guide to Neural Networks and AI](https://www.amazon.com/dp/B0DRS71QVQ)**.\n",
        "\n",
        "In this notebook, we will build and train a Seq2Seq/Encoder-Deocder model Attention. Compared with what we did in Chapter 10, the Encoder and Decoder in this example will be a little simplier, although it doesn't technically need to be - we can make it as fancy as we want.  Anyway, this model only uses a single layer of LSTMs and no stacking, as seen in the picture below.\n",
        "\n",
        "<img src=\"https://github.com/StatQuest/signa/blob/main/chapter_11/images/full_model.png?raw=1\" alt=\"an encoder-decoder model with attention\" style=\"width: 800px;\">\n",
        "\n",
        "In this tutorial, you will...\n",
        "\n",
        "#### NOTE:\n",
        "This tutorial assumes that you have read through the chapter on **Seq2Seq and Encoder-Decoder Models** and the chapter on **Attention** in **The StatQuest Illustrated Guide to Neural Networks and AI**."
      ]
    },
    {
      "cell_type": "markdown",
      "id": "1d3e3b1e-ea6d-4efb-be2f-a52abc6c8a08",
      "metadata": {
        "id": "1d3e3b1e-ea6d-4efb-be2f-a52abc6c8a08"
      },
      "source": [
        "----"
      ]
    },
    {
      "cell_type": "markdown",
      "id": "d995f41b-1786-48a6-a849-d17a08c5e6e0",
      "metadata": {
        "id": "d995f41b-1786-48a6-a849-d17a08c5e6e0"
      },
      "source": [
        "# Import the modules that will do all the work\n",
        "\n",
        "The very first thing we need to do is load a bunch of Python modules. Python itself is just a basic programming language. These modules give us extra functionality to create and train a Neural Network."
      ]
    },
    {
      "cell_type": "code",
      "execution_count": null,
      "id": "d771ba19-0a4e-47e9-be6f-b8b6bd3a24d1",
      "metadata": {
        "id": "d771ba19-0a4e-47e9-be6f-b8b6bd3a24d1"
      },
      "outputs": [],
      "source": [
        "%%capture\n",
        "# %%capture prevents this cell from printing a ton of STDERR stuff to the screen\n",
        "\n",
        "## First, check to see if lightning is installed, if not, install it.\n",
        "##\n",
        "## NOTE: If you **do** need to install something, just know that you may need to\n",
        "##       restart your session for python to find the new module(s).\n",
        "##\n",
        "##       To restart your session:\n",
        "##       - In Google Colab, click on the \"Runtime\" menu and select\n",
        "##         \"Restart Session\" from the pulldown menu\n",
        "##       - In a local jupyter notebook, click on the \"Kernel\" menu and select\n",
        "##         \"Restart Kernel\" from the pulldown menu\n",
        "# import pip\n",
        "# try:\n",
        "#   __import__(\"lightning\")\n",
        "# except ImportError:\n",
        "#   pip.main(['install', \"lightning\"])"
      ]
    },
    {
      "cell_type": "code",
      "execution_count": null,
      "id": "13fdd888-e128-40da-ae13-9889b07237a6",
      "metadata": {
        "id": "13fdd888-e128-40da-ae13-9889b07237a6"
      },
      "outputs": [],
      "source": [
        "import torch ## torch let's us create tensors and also provides helper functions\n",
        "import torch.nn as nn ## torch.nn gives us nn.Module(), nn.Embedding() and nn.Linear()\n",
        "import torch.nn.functional as F # This gives us the softmax() and argmax()\n",
        "from torch.optim import Adam ## We will use the Adam optimizer, which is, essentially,\n",
        "                             ## a slightly less stochastic version of stochastic gradient descent.\n",
        "from torch.utils.data import TensorDataset, DataLoader ## We'll store our data in DataLoaders\n",
        "\n",
        "import lightning as L ## Lightning makes it easier to write, optimize and scale our code\n",
        "\n",
        "## NOTE: If you get an error running this block of code, it is probably\n",
        "##       because you installed a new package earlier and forgot to\n",
        "##       restart your session for python to find the new module(s).\n",
        "##\n",
        "##       To restart your session:\n",
        "##       - In Google Colab, click on the \"Runtime\" menu and select\n",
        "##         \"Restart Session\" from the pulldown menu\n",
        "##       - In a local jupyter notebook, click on the \"Kernel\" menu and select\n",
        "##         \"Restart Kernel\" from the pulldown menu"
      ]
    },
    {
      "cell_type": "markdown",
      "id": "311efa7c-fb01-4066-95b5-ae6bc7135d96",
      "metadata": {
        "id": "311efa7c-fb01-4066-95b5-ae6bc7135d96"
      },
      "source": [
        "----"
      ]
    },
    {
      "cell_type": "markdown",
      "id": "60715ee4-2a20-4817-bb6e-976d1ca69d80",
      "metadata": {
        "id": "60715ee4-2a20-4817-bb6e-976d1ca69d80"
      },
      "source": [
        "# Create the datasets that we will use for training Encoder-Decoder model\n",
        "\n",
        "To make the model at least a little bit interesting, we will translate two english phrases, **Let's go** and **to go** into spanish. **Let's go** should translate to **vamos \\<EOS\\>** and **to go** should translate to **ir \\<EOS\\>**."
      ]
    },
    {
      "cell_type": "code",
      "execution_count": null,
      "id": "20226e3b-3177-4df9-a9ca-c1839b44223e",
      "metadata": {
        "id": "20226e3b-3177-4df9-a9ca-c1839b44223e"
      },
      "outputs": [],
      "source": [
        "## first, we create a dictionary that maps vocabulary tokens to id numbers...\n",
        "english_token_to_id = {'lets': 0,\n",
        "                       'to': 1,\n",
        "                       'go': 2,\n",
        "                       '<EOS>': 3 ## <EOS> = end of sequence\n",
        "                      }\n",
        "## ...then we create a dictionary that maps the ids to tokens. This will help us interpret the output.\n",
        "## We use the \"map()\" function to apply the \"reversed()\" function to each tuple (i.e. ('lets', 0)) stored\n",
        "## in the token_to_id dictionary. We then use dict() to make a new dictionary from the\n",
        "## reversed tuples.\n",
        "english_id_to_token = dict(map(reversed, english_token_to_id.items()))\n",
        "\n",
        "spanish_token_to_id = {'ir': 0,\n",
        "                       'vamos': 1,\n",
        "                       'y': 2,\n",
        "                       '<EOS>': 3}\n",
        "spanish_id_to_token = dict(map(reversed, spanish_token_to_id.items()))\n",
        "\n",
        "inputs = torch.tensor([[english_token_to_id[\"lets\"],\n",
        "                        english_token_to_id[\"go\"]],\n",
        "\n",
        "                       [english_token_to_id[\"to\"],\n",
        "                        english_token_to_id[\"go\"]]])\n",
        "\n",
        "labels = torch.tensor([[spanish_token_to_id[\"vamos\"],\n",
        "                        spanish_token_to_id[\"<EOS>\"]],\n",
        "\n",
        "                       [spanish_token_to_id[\"ir\"],\n",
        "                        spanish_token_to_id[\"<EOS>\"]]])"
      ]
    },
    {
      "cell_type": "markdown",
      "id": "a1df92bb-5280-4277-a3dc-87e7ddfe1f3d",
      "metadata": {
        "id": "a1df92bb-5280-4277-a3dc-87e7ddfe1f3d"
      },
      "source": [
        "Now that we have created the data that we want to train the embeddings with, we'll store it in a `DataLoader`. Since our dataset is so small, using a `DataLoader` is a little bit of an overkill, but it it's easy to do, and it will allow us to easily scale up to a much larger vocabulary when the time comes."
      ]
    },
    {
      "cell_type": "code",
      "execution_count": null,
      "id": "68f90604-5ccd-4d84-8758-99bc9ee96b6f",
      "metadata": {
        "id": "68f90604-5ccd-4d84-8758-99bc9ee96b6f"
      },
      "outputs": [],
      "source": [
        "## Now let's package everything up into a DataLoader...\n",
        "dataset = TensorDataset(inputs, labels)\n",
        "dataloader = DataLoader(dataset)"
      ]
    },
    {
      "cell_type": "markdown",
      "id": "525cdef6-56c9-4a38-a6e5-ba1349d684b9",
      "metadata": {
        "id": "525cdef6-56c9-4a38-a6e5-ba1349d684b9"
      },
      "source": [
        "----"
      ]
    },
    {
      "cell_type": "markdown",
      "id": "e9776d85-3686-4e64-89a0-f6c0651ddac4",
      "metadata": {
        "id": "e9776d85-3686-4e64-89a0-f6c0651ddac4"
      },
      "source": [
        "# Build and Train a Seq2Seq/Encoder-Decoder Model with Attention from Scratch"
      ]
    },
    {
      "cell_type": "code",
      "execution_count": null,
      "id": "c11ba37c-1809-4a90-aaaf-0916058a999f",
      "metadata": {
        "id": "c11ba37c-1809-4a90-aaaf-0916058a999f"
      },
      "outputs": [],
      "source": [
        "class seq2seq_attention(L.LightningModule):\n",
        "\n",
        "    def __init__(self, max_len=2):\n",
        "\n",
        "        super().__init__()\n",
        "\n",
        "        self.max_decoder_length = max_len\n",
        "\n",
        "        L.seed_everything(seed=42)\n",
        "\n",
        "        #################################\n",
        "        ##\n",
        "        ## ENCODING\n",
        "        ##\n",
        "        #################################\n",
        "        self.encoder_we = nn.Embedding(num_embeddings=4, # num_embeddings = # of tokens in input vocabulary\n",
        "                                       embedding_dim=1)  # embedding_dim = # of embedding values per token\n",
        "\n",
        "        self.encoder_lstm = nn.LSTM(input_size=1, # encoder_size = number of inputs\n",
        "                                    hidden_size=1,# hidden_size = number of outputs\n",
        "                                    num_layers=1) # num_layers = how many lstm's to stack\n",
        "                                                  #              If there are 2 layers, then the short term memory from the\n",
        "                                                  #              first layer is used as input to the second layer\n",
        "\n",
        "        #################################\n",
        "        ##\n",
        "        ## DECODING\n",
        "        ##\n",
        "        #################################\n",
        "        self.decoder_we = nn.Embedding(num_embeddings=4,\n",
        "                                       embedding_dim=1)\n",
        "\n",
        "        self.decoder_lstm = nn.LSTM(input_size=1,\n",
        "                                    hidden_size=1,\n",
        "                                    num_layers=1)\n",
        "\n",
        "        self.decoder_fc = nn.Linear(in_features=2,  # in_features = number of outputs per lstm * 2 (encoder + decoder)\n",
        "                                   out_features=4) # out_features = number of words in the output vocabulary\n",
        "\n",
        "        self.loss = nn.CrossEntropyLoss()\n",
        "\n",
        "\n",
        "    def forward(self, input, output=None):\n",
        "\n",
        "        # outputs = torch.zeros(self.max_decoder_length, 4)\n",
        "\n",
        "        #################################\n",
        "        ##\n",
        "        ## ENCODING\n",
        "        ##\n",
        "        #################################\n",
        "        ## first, use the encoder stage to create an intermediate encoding of the input text\n",
        "        encoder_embeddings = self.encoder_we(input)\n",
        "        encoder_lstm_output, (encoder_lstm_hidden, encoder_lstm_cell) = self.encoder_lstm(encoder_embeddings)\n",
        "\n",
        "        #################################\n",
        "        ##\n",
        "        ## DECODING\n",
        "        ##\n",
        "        #################################\n",
        "        ## We start by initializing the decoder with the <EOS> token...\n",
        "        decoder_token_id = torch.tensor([spanish_token_to_id[\"<EOS>\"]])\n",
        "        decoder_embeddings = self.decoder_we(decoder_token_id)\n",
        "        decoder_lstm_output, (decoder_lstm_hidden, decoder_lstm_cell) = self.decoder_lstm(decoder_embeddings,\n",
        "                                                                                          (encoder_lstm_hidden,\n",
        "                                                                                           encoder_lstm_cell))\n",
        "\n",
        "        ## Calculate attention here (using unnormalized cosine similarity, aka, dot product, to score the alignment)\n",
        "        ## In other words, we're trying to find words in the input that are used in the same context as those proposed\n",
        "        ## by the lstm.\n",
        "        sims = torch.matmul(decoder_lstm_output, encoder_lstm_output.transpose(dim0=0, dim1=1))\n",
        "        ## Apply softmax to determine what percent of each token's value to\n",
        "        ## use in the final attention values.\n",
        "        attention_percents = F.softmax(sims, dim=1)\n",
        "\n",
        "        ## Scale the values by their associated percentages and add them up.\n",
        "        attention_values = torch.matmul(attention_percents, encoder_lstm_output)\n",
        "\n",
        "        ## lastly, we need to concatenate the attention values with the short term\n",
        "        ## memories from the first decoder lstm\n",
        "        values_to_fc_layer = torch.cat((attention_values, decoder_lstm_output), 1)\n",
        "\n",
        "        output_values = self.decoder_fc(values_to_fc_layer)\n",
        "        outputs = output_values\n",
        "        predicted_id = torch.tensor([torch.argmax(output_values)])\n",
        "        predicted_ids = predicted_id\n",
        "\n",
        "        for i in range(1, self.max_decoder_length):\n",
        "            if (output == None): # using the model...\n",
        "                if (predicted_id == spanish_token_to_id[\"<EOS>\"]): # if the prediction is <EOS>, then we are done\n",
        "                    break\n",
        "                decoder_embeddings = self.decoder_we(predicted_id)\n",
        "            else:\n",
        "                decoder_embeddings = self.decoder_we(torch.tensor([output[i-1]]))\n",
        "\n",
        "            decoder_lstm_output, (decoder_lstm_hidden, decoder_lstm_cell) = self.decoder_lstm(decoder_embeddings,\n",
        "                                                                                              (decoder_lstm_hidden,\n",
        "                                                                                               decoder_lstm_cell))\n",
        "            sims = torch.matmul(decoder_lstm_output, encoder_lstm_output.transpose(dim0=0, dim1=1))\n",
        "            ## Apply softmax to determine what percent of each token's value to\n",
        "            ## use in the final attention values.\n",
        "            attention_percents = F.softmax(sims, dim=1)\n",
        "\n",
        "            ## Scale the values by their associated percentages and add them up.\n",
        "            attention_values = torch.matmul(attention_percents, encoder_lstm_output)\n",
        "\n",
        "            values_to_fc_layer = torch.cat((attention_values, decoder_lstm_output), 1)\n",
        "\n",
        "            output_values = self.decoder_fc(values_to_fc_layer)\n",
        "            # outputs[i] = output_values\n",
        "            outputs = torch. cat((outputs, output_values), 0)\n",
        "            predicted_id = torch.tensor([torch.argmax(output_values)])\n",
        "            predicted_ids = torch.cat((predicted_ids, predicted_id))\n",
        "\n",
        "        return(outputs)\n",
        "\n",
        "\n",
        "    def configure_optimizers(self): # this configures the optimizer we want to use for backpropagation.\n",
        "        return Adam(self.parameters(), lr=0.1) ## NOTE: Setting the learning rate to 0.1 trains way faster than\n",
        "                                               ## using the default learning rate, lr=0.001\n",
        "\n",
        "\n",
        "    def training_step(self, batch, batch_idx): # take a step during gradient descent.\n",
        "        input_tokens, labels = batch # collect input\n",
        "        output = self.forward(input_tokens[0], labels[0]) # run input through the neural network\n",
        "        loss = self.loss(output, labels[0]) ## self.loss = cross entropy\n",
        "        ###################\n",
        "        ##\n",
        "        ## Logging the loss\n",
        "        ##\n",
        "        ###################\n",
        "        # self.log(\"train_loss\", loss)\n",
        "\n",
        "        return loss"
      ]
    },
    {
      "cell_type": "markdown",
      "id": "30c22b96-cd77-4104-9e44-42dab6ad31df",
      "metadata": {
        "id": "30c22b96-cd77-4104-9e44-42dab6ad31df"
      },
      "source": [
        "Now that we have created the `seq2seq_attention()` class, let's just run the phrase **Let's go** through it to see what it gets translated into."
      ]
    },
    {
      "cell_type": "code",
      "execution_count": null,
      "id": "178aaa49-553a-4e41-96ef-b5255f09638f",
      "metadata": {
        "id": "178aaa49-553a-4e41-96ef-b5255f09638f"
      },
      "outputs": [],
      "source": [
        "model = seq2seq_attention()\n",
        "outputs = model.forward(input=torch.tensor([english_token_to_id[\"lets\"],\n",
        "                                            english_token_to_id[\"go\"]]), ## translate \"lets go\", we should get \"vamos <EOS>\"\n",
        "                        output=None)\n",
        "\n",
        "print(\"Translated text:\")\n",
        "predicted_ids = torch.argmax(outputs, dim=1)\n",
        "for id in predicted_ids:\n",
        "    print(\"\\t\", spanish_id_to_token[id.item()])"
      ]
    },
    {
      "cell_type": "markdown",
      "id": "b9c98aa3-ff1c-4ace-9311-df66a064c2c2",
      "metadata": {
        "id": "b9c98aa3-ff1c-4ace-9311-df66a064c2c2"
      },
      "source": [
        "And we see that **Let's go** was translated to **y y** instead of what we wanted, which was **vamos \\<EOS\\>**. So let's train the model!"
      ]
    },
    {
      "cell_type": "code",
      "execution_count": null,
      "id": "8c65240b-555d-46c6-9650-193c1bc939c8",
      "metadata": {
        "id": "8c65240b-555d-46c6-9650-193c1bc939c8"
      },
      "outputs": [],
      "source": [
        "trainer = L.Trainer(max_epochs=20, accelerator=\"cpu\")\n",
        "trainer.fit(model, train_dataloaders=dataloader)"
      ]
    },
    {
      "cell_type": "markdown",
      "id": "b30a063f-1b32-4681-8232-68c781e84425",
      "metadata": {
        "id": "b30a063f-1b32-4681-8232-68c781e84425"
      },
      "source": [
        "Now let's see if the model correctly translates **Let's go** into **vamos \\<EOS\\>**..."
      ]
    },
    {
      "cell_type": "code",
      "execution_count": null,
      "id": "9fe9d8e7-0cac-44bb-9bf0-5473e75080fd",
      "metadata": {
        "id": "9fe9d8e7-0cac-44bb-9bf0-5473e75080fd"
      },
      "outputs": [],
      "source": [
        "outputs = model.forward(input=torch.tensor([english_token_to_id[\"lets\"],\n",
        "                                            english_token_to_id[\"go\"]]), ## translate \"lets go\", we should get \"vamos <EOS>\"\n",
        "                        output=None)\n",
        "\n",
        "print(\"Translated text:\")\n",
        "predicted_ids = torch.argmax(outputs, dim=1)\n",
        "for id in predicted_ids:\n",
        "    print(\"\\t\", spanish_id_to_token[id.item()])"
      ]
    },
    {
      "cell_type": "markdown",
      "id": "6b608d05-bb24-4e0b-983a-851167008089",
      "metadata": {
        "id": "6b608d05-bb24-4e0b-983a-851167008089"
      },
      "source": [
        "...and it does!\n",
        "\n",
        "### BAM!\n",
        "\n",
        "Now let's see if the model correctly translates **to go** to **ir \\<EOS\\>**..."
      ]
    },
    {
      "cell_type": "code",
      "execution_count": null,
      "id": "480f7187-afbb-4a05-8c5d-e325354083f0",
      "metadata": {
        "id": "480f7187-afbb-4a05-8c5d-e325354083f0"
      },
      "outputs": [],
      "source": [
        "outputs = model.forward(input=torch.tensor([english_token_to_id[\"to\"],\n",
        "                                            english_token_to_id[\"go\"]]), ## translate \"to go\", we should get \"ir <EOS>\"\n",
        "                        output=None)\n",
        "\n",
        "print(\"Translated text:\")\n",
        "predicted_ids = torch.argmax(outputs, dim=1)\n",
        "for id in predicted_ids:\n",
        "    print(\"\\t\", spanish_id_to_token[id.item()])"
      ]
    },
    {
      "cell_type": "markdown",
      "id": "dd8e19ae-442c-440e-a041-d1da42685bce",
      "metadata": {
        "id": "dd8e19ae-442c-440e-a041-d1da42685bce"
      },
      "source": [
        "...and it does!\n",
        "\n",
        "## DOUBLE BAM!!"
      ]
    },
    {
      "cell_type": "markdown",
      "id": "6fcbf011-b04c-4ef0-a6bf-68cd071bb36d",
      "metadata": {
        "id": "6fcbf011-b04c-4ef0-a6bf-68cd071bb36d"
      },
      "source": [
        "----"
      ]
    },
    {
      "cell_type": "markdown",
      "id": "8708342b-834e-4a71-bb2f-d0e22df2ccac",
      "metadata": {
        "id": "8708342b-834e-4a71-bb2f-d0e22df2ccac"
      },
      "source": [
        "# Print Out Weights and Biases"
      ]
    },
    {
      "cell_type": "markdown",
      "id": "a3fbf538-9d69-4dc1-b5d4-9bb347bbe6f1",
      "metadata": {
        "id": "a3fbf538-9d69-4dc1-b5d4-9bb347bbe6f1"
      },
      "source": [
        "Relatively early in **Chapter 11** we had a note saying that if you wanted to do the math by hand, you'd have to print out the weights and biases when we code it. So, here are the weights and biases..."
      ]
    },
    {
      "cell_type": "code",
      "execution_count": null,
      "id": "16ba289e-2127-4622-886b-93b1948192de",
      "metadata": {
        "id": "16ba289e-2127-4622-886b-93b1948192de"
      },
      "outputs": [],
      "source": [
        "print(\"After optimization, the parameters are...\")\n",
        "for name, param in model.named_parameters():\n",
        "    print(name, param.data)"
      ]
    },
    {
      "cell_type": "markdown",
      "id": "6a9e7faa-9869-4626-9c17-01c5decdf855",
      "metadata": {
        "id": "6a9e7faa-9869-4626-9c17-01c5decdf855"
      },
      "source": [
        "# TRIPLE BAM!!!"
      ]
    },
    {
      "cell_type": "code",
      "execution_count": null,
      "id": "a1c95221-b4ac-4381-9d4a-c5a607bc5e57",
      "metadata": {
        "id": "a1c95221-b4ac-4381-9d4a-c5a607bc5e57"
      },
      "outputs": [],
      "source": []
    }
  ],
  "metadata": {
    "colab": {
      "provenance": []
    },
    "kernelspec": {
      "display_name": "Python 3 (ipykernel)",
      "language": "python",
      "name": "python3"
    },
    "language_info": {
      "codemirror_mode": {
        "name": "ipython",
        "version": 3
      },
      "file_extension": ".py",
      "mimetype": "text/x-python",
      "name": "python",
      "nbconvert_exporter": "python",
      "pygments_lexer": "ipython3",
      "version": "3.9.6"
    }
  },
  "nbformat": 4,
  "nbformat_minor": 5
}
